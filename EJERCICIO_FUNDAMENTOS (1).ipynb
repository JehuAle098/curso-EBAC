{
 "cells": [
  {
   "cell_type": "markdown",
   "id": "bbf00757",
   "metadata": {},
   "source": [
    "EJERCICIO-FUNDAMENTOS"
   ]
  },
  {
   "cell_type": "code",
   "execution_count": 3,
   "id": "1b80c0e1",
   "metadata": {},
   "outputs": [
    {
     "name": "stdout",
     "output_type": "stream",
     "text": [
      "68\n",
      "<class 'int'>\n"
     ]
    }
   ],
   "source": [
    "# escribe un entero\n",
    "\n",
    "my_number=68\n",
    "print(my_number)\n",
    "print(type(my_number))"
   ]
  },
  {
   "cell_type": "code",
   "execution_count": 4,
   "id": "3d9f1e08",
   "metadata": {},
   "outputs": [
    {
     "name": "stdout",
     "output_type": "stream",
     "text": [
      "5.6\n",
      "<class 'float'>\n"
     ]
    }
   ],
   "source": [
    "# escribe un float\n",
    "my_float=5.60\n",
    "print(my_float)\n",
    "print(type(my_float))\n"
   ]
  },
  {
   "cell_type": "code",
   "execution_count": 6,
   "id": "3a486718",
   "metadata": {},
   "outputs": [
    {
     "name": "stdout",
     "output_type": "stream",
     "text": [
      "fundamentos\n",
      "<class 'str'>\n"
     ]
    }
   ],
   "source": [
    "# escirbe una string\n",
    "my_string=\"fundamentos\"\n",
    "print(my_string)\n",
    "print(type(my_string))"
   ]
  },
  {
   "cell_type": "code",
   "execution_count": null,
   "id": "eb2f4963",
   "metadata": {},
   "outputs": [],
   "source": []
  }
 ],
 "metadata": {
  "kernelspec": {
   "display_name": "Python 3 (ipykernel)",
   "language": "python",
   "name": "python3"
  },
  "language_info": {
   "codemirror_mode": {
    "name": "ipython",
    "version": 3
   },
   "file_extension": ".py",
   "mimetype": "text/x-python",
   "name": "python",
   "nbconvert_exporter": "python",
   "pygments_lexer": "ipython3",
   "version": "3.11.5"
  }
 },
 "nbformat": 4,
 "nbformat_minor": 5
}
